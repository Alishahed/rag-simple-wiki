{
 "cells": [
  {
   "cell_type": "markdown",
   "metadata": {},
   "source": [
    "# Note: This notebook was used for experimentation and creation of Faiss and vectors. To run this notebook properly you need OPEN AI AIP key and you can add that to the 4th cell in this notebook."
   ]
  },
  {
   "cell_type": "code",
   "execution_count": 120,
   "metadata": {},
   "outputs": [
    {
     "name": "stderr",
     "output_type": "stream",
     "text": [
      "[nltk_data] Downloading package stopwords to /home/ali/nltk_data...\n",
      "[nltk_data]   Package stopwords is already up-to-date!\n",
      "Encoding articles: 100%|██████████| 6417/6417 [29:37<00:00,  3.61it/s]\n"
     ]
    }
   ],
   "source": [
    "from transformers import AutoTokenizer, AutoModel\n",
    "import torch\n",
    "import pandas as pd\n",
    "import numpy as np\n",
    "from tqdm import tqdm\n",
    "import re\n",
    "import nltk\n",
    "from nltk.corpus import stopwords\n",
    "\n",
    "\n",
    "# Download NLTK stopwords\n",
    "nltk.download('stopwords')\n",
    "\n",
    "# Check if GPU is available and set the device\n",
    "device = torch.device(\"cuda\" if torch.cuda.is_available() else \"cpu\")\n",
    "\n",
    "# Load the Sentence-BERT model\n",
    "tokenizer = AutoTokenizer.from_pretrained(\"sentence-transformers/bert-base-nli-mean-tokens\")\n",
    "model = AutoModel.from_pretrained(\"sentence-transformers/bert-base-nli-mean-tokens\").to(device)\n",
    "\n",
    "def clean_text(text):\n",
    "    \"\"\"Clean the input text.\"\"\"\n",
    "    # Remove HTML tags\n",
    "    text = re.sub(r'<.*?>', '', text)\n",
    "    # Convert text to lowercase\n",
    "    text = text.lower()\n",
    "    # Remove punctuation\n",
    "    text = re.sub(r'[^\\w\\s]', '', text)\n",
    "    # Remove numbers\n",
    "    text = re.sub(r'\\d+', '', text)\n",
    "    # Remove stopwords (optional)\n",
    "    stop_words = set(stopwords.words('english'))\n",
    "    text = ' '.join([word for word in text.split() if word not in stop_words])\n",
    "    # Strip extra whitespaces\n",
    "    text = text.strip()\n",
    "    return text\n",
    "\n",
    "def encode_articles(articles, batch_size=32):\n",
    "    \"\"\"Encode list of articles into vectors.\"\"\"\n",
    "    model.eval()\n",
    "    all_vectors = []\n",
    "    \n",
    "    # Integrate tqdm progress bar\n",
    "    for i in tqdm(range(0, len(articles), batch_size), desc=\"Encoding articles\"):\n",
    "        batch = [clean_text(article) for article in articles[i:i+batch_size]]\n",
    "        with torch.no_grad():\n",
    "            encoded_batch = tokenizer(batch, padding=True, truncation=True, max_length=512, return_tensors='pt').to(device)\n",
    "            outputs = model(**encoded_batch)\n",
    "            vectors = outputs.pooler_output\n",
    "            all_vectors.append(vectors.cpu().numpy())\n",
    "    \n",
    "    return np.concatenate(all_vectors, axis=0)\n",
    "\n",
    "# Example usage\n",
    "wiki_simple = pd.read_csv('../data/wiki_simple_text.csv')\n",
    "\n",
    "# Convert the 'text' column into a list of articles\n",
    "articles = wiki_simple['text'].tolist()\n",
    "\n",
    "# Generate article vectors\n",
    "article_vectors = encode_articles(articles)\n"
   ]
  },
  {
   "cell_type": "code",
   "execution_count": 132,
   "metadata": {},
   "outputs": [
    {
     "name": "stdout",
     "output_type": "stream",
     "text": [
      "(205328, 768)\n"
     ]
    }
   ],
   "source": [
    "article_vectors = np.array(article_vectors, dtype=np.float32)\n",
    "print(article_vectors.shape)"
   ]
  },
  {
   "cell_type": "code",
   "execution_count": 133,
   "metadata": {},
   "outputs": [],
   "source": [
    "def build_faiss_index(vectors):\n",
    "    \"\"\"Build and train a FAISS index.\"\"\"\n",
    "    dimension = vectors.shape[1]\n",
    "    index = faiss.IndexFlatL2(dimension)\n",
    "    index.add(vectors)\n",
    "    return index\n",
    "\n",
    "# Building the index\n",
    "faiss_index = build_faiss_index(article_vectors)\n"
   ]
  },
  {
   "cell_type": "code",
   "execution_count": 220,
   "metadata": {},
   "outputs": [
    {
     "name": "stdout",
     "output_type": "stream",
     "text": [
      "ChatCompletionMessage(content='{\\n  \"summary\": \"Joseph Biden is a politician and the 46th President of the United States.\",\\n  \"entities\": {\\n    \"Joseph Biden\": \"Politician and 46th President of the United States\"\\n  },\\n  \"relation\": \"Joseph Biden is the person referenced in the query\"\\n}', role='assistant', function_call=None, tool_calls=None)\n"
     ]
    }
   ],
   "source": [
    "from openai import OpenAI\n",
    "\n",
    "def process_query_with_chatgpt(query, openai_api_key):\n",
    "    client = OpenAI(api_key=openai_api_key)\n",
    "\n",
    "    try:\n",
    "        response = client.chat.completions.create(\n",
    "            model=\"gpt-3.5-turbo\",  # Verify this is the correct model\n",
    "            messages=[{\"role\": \"system\", \"content\": '''You are a helpful assistant. You are given a query. \n",
    "                       Find the important entities in the query and write a 5 sentece summary definition of those entities. \n",
    "                       Afterward explain the query relation to the entities.\n",
    "                       The output should be in a json format with the following keys: \"summary\", \"entities\", \"relation'''},\n",
    "                      {\"role\": \"user\", \"content\": query}],\n",
    "            max_tokens=300,\n",
    "            temperature=0.7,\n",
    "        )\n",
    "        return response\n",
    "    except Exception as e:\n",
    "        # Enhanced error logging\n",
    "        print(f\"An error occurred: {type(e).__name__}, {str(e)}\")\n",
    "        return None\n",
    "\n",
    "# Example usage\n",
    "api_key = \"sk-xxxxxxxxxxxxxxxxxxxxxxxxxxxxx\"  # Replace with your actual API key\n",
    "query = \"Who is Joseph Biden?\"\n",
    "processed_query = process_query_with_chatgpt(query, api_key)\n",
    "\n",
    "if processed_query:\n",
    "    print(processed_query.choices[0].message)\n",
    "else:\n",
    "    print(\"Failed to process query.\")\n",
    "\n"
   ]
  },
  {
   "cell_type": "code",
   "execution_count": 224,
   "metadata": {},
   "outputs": [],
   "source": [
    "import json\n",
    "\n",
    "# Assuming processed_query.choices[0].message.content contains the JSON data as a string\n",
    "json_string = processed_query.choices[0].message.content\n",
    "\n",
    "# Parse the JSON string into a Python dictionary\n",
    "llm_output = json.loads(json_string)\n",
    "\n",
    "# Accessing the different parts of the JSON\n",
    "summary = llm_output['summary']\n",
    "entities = llm_output['entities']\n",
    "relation = llm_output['relation']\n",
    "faiss_query = relation + \" \" + summary\n"
   ]
  },
  {
   "cell_type": "code",
   "execution_count": 225,
   "metadata": {},
   "outputs": [
    {
     "name": "stderr",
     "output_type": "stream",
     "text": [
      "Encoding articles: 100%|██████████| 1/1 [00:00<00:00, 40.60it/s]"
     ]
    },
    {
     "name": "stdout",
     "output_type": "stream",
     "text": [
      "['The Speaker of the House of Commons directs the legislative branch of the UK government. The Speaker is the chief executive of the House of Commons, the lower house and primary chamber of the Parliament of the United Kingdom. \\n\\nThe current Speaker, Sir Lindsay Hoyle was elected Speaker on 4 November 2019, following the resignation of John Bercow.\\n\\nLiving former Speakers\\nThere are two living former Speakers:\\n\\nCurrent speaker and deputy speakers\\n\\nReferences\\n\\nOther websites\\n The Speaker of the House of Commons (from parliament.uk)\\n Parliament (from direct.gov.uk)', 'Kenneth Wilfred Baker, Baron Baker of Dorking,  (born 3 November 1934) is a British politician. He is a former Conservative Member of Parliament and cabinet minister. He served for the offices of Home Secretary, Education Secretary and Conservative Party Chairman. He is a life member of the Tory Reform Group.\\n\\nReferences\\n\\nOther websites\\n Kenneth Baker interview at History of Parliament Online\\n\\n1934 births\\nLiving people\\nBritish politicians', 'The Domestic Policy Council (DPC) of the United States is the main position used by the President of the United States for talking about  domestic policy issues which are not economic related.\\n\\nList\\n\\nOther websites\\n White House: Domestic Policy Council\\n\\nExecutive branch of the United States government', \"Sfiso Buthelezi (born 1961) is a South African politician. He was appointed Deputy Minister of Finance in 2017. He is a member of the country's ruling party the African National Congress.\\n\\nReferences \\n\\nLiving people\\n1961 births\\nSouth African politicians\", 'Douglas McClelland  (born 5 August 1926) is an Australian politician. He was elected to the Australian Senate as a member of the Australian Labor Party at the 1961 election, representing New South Wales. He left the Senate 1987. From 1983 to 1987, he was President of the Senate.\\n\\nReferences\\n\\n1926 births\\nLiving people\\nPresidents of the Australian Senate\\nPoliticians from New South Wales']\n"
     ]
    },
    {
     "name": "stderr",
     "output_type": "stream",
     "text": [
      "\n"
     ]
    }
   ],
   "source": [
    "def search_with_faiss(query, index, articles, top_k=5):\n",
    "    \"\"\"Search for similar articles using FAISS and return the original articles.\"\"\"\n",
    "    # Encode the query to get its vector representation\n",
    "    query_vector = encode_articles([query])[0]\n",
    "    # Search in FAISS index\n",
    "    distances, indices = index.search(np.array([query_vector]), top_k)\n",
    "    # Retrieve the original articles based on the indices\n",
    "    return [articles[i] for i in indices[0]]\n",
    "\n",
    "# Example usage\n",
    "# Assuming `articles` is a list of your articles in the same order as they were added to the FAISS index\n",
    "# similar_articles_indices = search_with_faiss(clean_text(query+' '+processed_query.choices[0].message.content), faiss_index, articles, top_k=5)\n",
    "similar_articles = search_with_faiss(clean_text(faiss_query), faiss_index, articles, top_k=5)\n",
    "print(similar_articles)"
   ]
  },
  {
   "cell_type": "code",
   "execution_count": 226,
   "metadata": {},
   "outputs": [
    {
     "name": "stdout",
     "output_type": "stream",
     "text": [
      "[\"Barack Obama, then a junior United States Senator from Illinois, announced his candidacy for the presidency of the United States in Springfield, Illinois, on February 10, 2007. On August 27, 2008, he was declared nominee of the Democratic Party for the 2008 presidential election. He was the first African American in history to be nominated on a major party ticket.\\nOn August 23, 2008, Barack Obama's campaign announced that Senator Joe Biden of Delaware would be the Vice Presidential nominee.\\n\\nOn November 4, 2008, Obama won the election, making him the President-elect and the first African American elected President of the United States. He is the third sitting Senator, after Warren G. Harding and John F. Kennedy, to be elected President.\\n\\nHis constitutional election to the office was completed with the meeting of the Electoral College on December 15, 2008, and the subsequent certification of the college's vote by the Joint Session of the United States Congress on January 8, 2009. Based on the results of the electoral vote count, Barack Obama was declared the elected President of the United States and Joseph Biden was declared officially as the elected Vice President of the United States in the 2008 presidential election. The Headquarters of Obama's campaign was in his home town of Chicago, Illinois.\\n\\nReferences\\n\\nObama\\nBarack Obama\\n2008 in the United States\"]\n"
     ]
    }
   ],
   "source": [
    "regex_pattern = '|'.join(entities)\n",
    "articles_key_word = wiki_simple[wiki_simple['text'].str.contains(regex_pattern,case=False,na=False)][:1]['text'].tolist()\n",
    "print(articles_key_word)"
   ]
  },
  {
   "cell_type": "code",
   "execution_count": 227,
   "metadata": {},
   "outputs": [
    {
     "name": "stdout",
     "output_type": "stream",
     "text": [
      "Joseph Biden is a former United States Senator from Delaware and the 46th President of the United States. He served as Vice President under President Barack Obama from 2009 to 2017. Joseph Biden was officially declared the elected Vice President of the United States in the 2008 presidential election. He was inaugurated as President on January 20, 2021. \n",
      "\n",
      "The information about Joseph Biden can be found in the last entry of the list. The answer was found at index 5.\n"
     ]
    }
   ],
   "source": [
    "def process_Faiss_output_with_chatgpt(query,list_pages, openai_api_key):\n",
    "    client = OpenAI(api_key=openai_api_key)\n",
    "\n",
    "    try:\n",
    "        response = client.chat.completions.create(\n",
    "            model=\"gpt-3.5-turbo\",  # Verify this is the correct model\n",
    "            messages=[{\"role\": \"system\", \"content\": f'''You are a helpful assistant. You are given a query. \n",
    "                       Please try your best to find the answer to the query in the following list:{list_pages}.\n",
    "                        Also return the index in the list that you found the answer in. The output needs to be in json format with the following keys: \"answer\", \"index\"'''},\n",
    "                      {\"role\": \"user\", \"content\": query}],\n",
    "            max_tokens=300,\n",
    "            temperature=0.7,\n",
    "        )\n",
    "        return response\n",
    "    except Exception as e:\n",
    "        # Enhanced error logging\n",
    "        print(f\"An error occurred: {type(e).__name__}, {str(e)}\")\n",
    "        return None\n",
    "\n",
    "# Example usage\n",
    "#api_key = \"sk-xxxxxxxxxxxxxxxxxxxxxxxxxxxxx\"  # Replace with your actual API key\n",
    "#query = \"What is the capital of France?\"\n",
    "knowledge_base = similar_articles + articles_key_word\n",
    "processed_Faiss_output = process_Faiss_output_with_chatgpt(query,knowledge_base, api_key)\n",
    "\n",
    "if processed_query:\n",
    "    print(processed_Faiss_output.choices[0].message.content)\n",
    "else:\n",
    "    print(\"Failed to process query.\")"
   ]
  },
  {
   "cell_type": "code",
   "execution_count": 178,
   "metadata": {},
   "outputs": [
    {
     "data": {
      "text/html": [
       "<div>\n",
       "<style scoped>\n",
       "    .dataframe tbody tr th:only-of-type {\n",
       "        vertical-align: middle;\n",
       "    }\n",
       "\n",
       "    .dataframe tbody tr th {\n",
       "        vertical-align: top;\n",
       "    }\n",
       "\n",
       "    .dataframe thead th {\n",
       "        text-align: right;\n",
       "    }\n",
       "</style>\n",
       "<table border=\"1\" class=\"dataframe\">\n",
       "  <thead>\n",
       "    <tr style=\"text-align: right;\">\n",
       "      <th></th>\n",
       "      <th>text</th>\n",
       "    </tr>\n",
       "  </thead>\n",
       "  <tbody>\n",
       "    <tr>\n",
       "      <th>96</th>\n",
       "      <td>Cuba is an island country in the Caribbean Sea...</td>\n",
       "    </tr>\n",
       "    <tr>\n",
       "      <th>174</th>\n",
       "      <td>Honolulu is the capital city of the U.S. state...</td>\n",
       "    </tr>\n",
       "    <tr>\n",
       "      <th>204</th>\n",
       "      <td>January (Jan.) is the first month of the year ...</td>\n",
       "    </tr>\n",
       "    <tr>\n",
       "      <th>277</th>\n",
       "      <td>November (Nov.) is the eleventh month of the y...</td>\n",
       "    </tr>\n",
       "    <tr>\n",
       "      <th>592</th>\n",
       "      <td>The 2000s, also known as the noughties was the...</td>\n",
       "    </tr>\n",
       "    <tr>\n",
       "      <th>1041</th>\n",
       "      <td>2007 (MMVII) was .\\n\\nThe year 2007 was called...</td>\n",
       "    </tr>\n",
       "    <tr>\n",
       "      <th>1054</th>\n",
       "      <td>2009 (MMIX) was .\\n2009 was called the:\\n Inte...</td>\n",
       "    </tr>\n",
       "    <tr>\n",
       "      <th>1118</th>\n",
       "      <td>George Walker Bush (born July 6, 1946) is an A...</td>\n",
       "    </tr>\n",
       "    <tr>\n",
       "      <th>1227</th>\n",
       "      <td>Ronald Wilson Reagan (; February 6, 1911 – Jun...</td>\n",
       "    </tr>\n",
       "    <tr>\n",
       "      <th>1574</th>\n",
       "      <td>William Jefferson \"Bill\" Clinton (born William...</td>\n",
       "    </tr>\n",
       "  </tbody>\n",
       "</table>\n",
       "</div>"
      ],
      "text/plain": [
       "                                                   text\n",
       "96    Cuba is an island country in the Caribbean Sea...\n",
       "174   Honolulu is the capital city of the U.S. state...\n",
       "204   January (Jan.) is the first month of the year ...\n",
       "277   November (Nov.) is the eleventh month of the y...\n",
       "592   The 2000s, also known as the noughties was the...\n",
       "1041  2007 (MMVII) was .\\n\\nThe year 2007 was called...\n",
       "1054  2009 (MMIX) was .\\n2009 was called the:\\n Inte...\n",
       "1118  George Walker Bush (born July 6, 1946) is an A...\n",
       "1227  Ronald Wilson Reagan (; February 6, 1911 – Jun...\n",
       "1574  William Jefferson \"Bill\" Clinton (born William..."
      ]
     },
     "execution_count": 178,
     "metadata": {},
     "output_type": "execute_result"
    }
   ],
   "source": [
    "json_answer = processed_Faiss_output.choices[0].message.content\n",
    "answer = json.loads(json_answer)['answer']\n",
    "index = json.loads(json_answer)['index']\n",
    "print(f'Answer: {answer}')\n",
    "print(f'Article: {knowledge_base[index]}')"
   ]
  }
 ],
 "metadata": {
  "kernelspec": {
   "display_name": "you_com_hw",
   "language": "python",
   "name": "python3"
  },
  "language_info": {
   "codemirror_mode": {
    "name": "ipython",
    "version": 3
   },
   "file_extension": ".py",
   "mimetype": "text/x-python",
   "name": "python",
   "nbconvert_exporter": "python",
   "pygments_lexer": "ipython3",
   "version": "3.9.16"
  }
 },
 "nbformat": 4,
 "nbformat_minor": 2
}
